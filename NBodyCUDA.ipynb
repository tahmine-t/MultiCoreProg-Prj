{
  "cells": [
    {
      "cell_type": "markdown",
      "metadata": {
        "id": "kcba5QZoc_pA"
      },
      "source": [
        "# Check NVIDIA CUDA Compiler Version\n",
        "This cell runs the command !nvcc --version to check the version of the NVIDIA CUDA Compiler (nvcc) installed in the environment. The CUDA Compiler is part of the NVIDIA CUDA Toolkit and is essential for compiling CUDA programs."
      ]
    },
    {
      "cell_type": "code",
      "execution_count": 1,
      "metadata": {
        "id": "ZeANr2tH7mMD",
        "colab": {
          "base_uri": "https://localhost:8080/"
        },
        "outputId": "71f0eebf-a889-43c7-fd85-671a3ae968e8"
      },
      "outputs": [
        {
          "output_type": "stream",
          "name": "stdout",
          "text": [
            "nvcc: NVIDIA (R) Cuda compiler driver\n",
            "Copyright (c) 2005-2023 NVIDIA Corporation\n",
            "Built on Tue_Aug_15_22:02:13_PDT_2023\n",
            "Cuda compilation tools, release 12.2, V12.2.140\n",
            "Build cuda_12.2.r12.2/compiler.33191640_0\n"
          ]
        }
      ],
      "source": [
        "!nvcc --version"
      ]
    },
    {
      "cell_type": "markdown",
      "metadata": {
        "id": "E21dZhJmdPr8"
      },
      "source": [
        "# Check GCC Version\n",
        "This cell runs !gcc --version to display the installed version of the GNU Compiler Collection (GCC).\n",
        "\n"
      ]
    },
    {
      "cell_type": "code",
      "execution_count": 2,
      "metadata": {
        "id": "YnL1lWlN1BEX",
        "colab": {
          "base_uri": "https://localhost:8080/"
        },
        "outputId": "3ccc4612-6bbc-40b8-e292-74476e299a8c"
      },
      "outputs": [
        {
          "output_type": "stream",
          "name": "stdout",
          "text": [
            "gcc (Ubuntu 11.4.0-1ubuntu1~22.04) 11.4.0\n",
            "Copyright (C) 2021 Free Software Foundation, Inc.\n",
            "This is free software; see the source for copying conditions.  There is NO\n",
            "warranty; not even for MERCHANTABILITY or FITNESS FOR A PARTICULAR PURPOSE.\n",
            "\n"
          ]
        }
      ],
      "source": [
        "!gcc --version"
      ]
    },
    {
      "cell_type": "markdown",
      "metadata": {
        "id": "ajhb7DMseQ1I"
      },
      "source": [
        "# Install and Load NVCC4Jupyter\n",
        "This cell installs the nvcc4jupyter package and loads the NVCC extension for Jupyter notebooks. The commands are:\n",
        "\n",
        "\n",
        "*   !pip install nvcc4jupyter: Installs the nvcc4jupyter package, which allows you to write and run CUDA C/C++ code directly in Jupyter notebooks.\n",
        "\n",
        "*   %load_ext nvcc4jupyter: Loads the NVCC extension to enable the execution of CUDA code within notebook cells."
      ]
    },
    {
      "cell_type": "code",
      "execution_count": 3,
      "metadata": {
        "id": "zAArg9nieuZW",
        "colab": {
          "base_uri": "https://localhost:8080/"
        },
        "outputId": "3d12fa91-d43d-4158-81cb-8e8e0c2febc1"
      },
      "outputs": [
        {
          "output_type": "stream",
          "name": "stdout",
          "text": [
            "Collecting nvcc4jupyter\n",
            "  Downloading nvcc4jupyter-1.2.1-py3-none-any.whl (10 kB)\n",
            "Installing collected packages: nvcc4jupyter\n",
            "Successfully installed nvcc4jupyter-1.2.1\n",
            "Detected platform \"Colab\". Running its setup...\n",
            "Source files will be saved in \"/tmp/tmp1iajzhkx\".\n"
          ]
        }
      ],
      "source": [
        "!pip install nvcc4jupyter\n",
        "%load_ext nvcc4jupyter"
      ]
    },
    {
      "cell_type": "markdown",
      "metadata": {
        "id": "OsjLUp_ydw8d"
      },
      "source": [
        "# List NVIDIA GPUs\n",
        "This cell runs the command !nvidia-smi -L to list all NVIDIA GPUs available in the environment. The nvidia-smi (NVIDIA System Management Interface) tool provides information about the NVIDIA driver and hardware, including the GPU model, memory, and other specifications. This command is useful for confirming the presence and details of GPU resources available for your computations."
      ]
    },
    {
      "cell_type": "code",
      "execution_count": 4,
      "metadata": {
        "id": "LHhK0AxJduGb",
        "colab": {
          "base_uri": "https://localhost:8080/"
        },
        "outputId": "0c0cbc4a-4280-4c6a-b918-c33a715efdaf"
      },
      "outputs": [
        {
          "output_type": "stream",
          "name": "stdout",
          "text": [
            "GPU 0: Tesla T4 (UUID: GPU-386a70d0-db04-4e05-2413-e2b15eba27ac)\n"
          ]
        }
      ],
      "source": [
        "!nvidia-smi -L"
      ]
    },
    {
      "cell_type": "markdown",
      "metadata": {
        "id": "RGehaasna1L0"
      },
      "source": [
        "# Display GPU Properties with CUDA"
      ]
    },
    {
      "cell_type": "code",
      "execution_count": null,
      "metadata": {
        "colab": {
          "base_uri": "https://localhost:8080/"
        },
        "id": "8xHrsi9Nhuju",
        "outputId": "19535441-c5e9-4981-a78a-e6694b3b8625"
      },
      "outputs": [
        {
          "output_type": "stream",
          "name": "stdout",
          "text": [
            "Device 0\n",
            "Device Name: Tesla T4\n",
            "Total Global Memory: 14.75 GB\n",
            "Shared Memory per Block: 48.00 KB\n",
            "Registers per Block: 65536\n",
            "Warp Size: 32\n",
            "Max Threads per Block: 1024\n",
            "Max Threads per Multi-Processor: 1024\n",
            "Max Grid Dimensions: [2147483647, 65535, 65535]\n",
            "Max Block Dimensions: [1024, 1024, 64]\n",
            "Compute Capability: 7.5\n",
            "Multi-Processor Count: 40\n",
            "Max Texture 1D Size: 131072\n",
            "Max Texture 2D Size: [131072, 65536]\n",
            "Concurrent Kernels: Supported\n",
            "ECC Memory: Enabled\n",
            "\n",
            "Cache Configuration:\n",
            "L2 Cache Size: 4096.00 KB\n",
            "Global Memory Bus Width: 256 bits\n",
            "Memory Clock Rate: 5.00 GHz\n",
            "\n",
            "\n"
          ]
        }
      ],
      "source": [
        "%%cuda\n",
        "#include <cuda_runtime.h>\n",
        "#include <stdio.h>\n",
        "\n",
        "// Convert bytes to gigabytes\n",
        "float bytesToGB(size_t bytes) {\n",
        "    return static_cast<float>(bytes) / (1024.0f * 1024.0f * 1024.0f);\n",
        "}\n",
        "\n",
        "// Convert bytes to kilobytes\n",
        "float bytesToKB(size_t bytes) {\n",
        "    return static_cast<float>(bytes) / 1024.0f;\n",
        "}\n",
        "\n",
        "void displayGPUProperties(const cudaDeviceProp& deviceProp) {\n",
        "    printf(\"Device Name: %s\\n\", deviceProp.name);\n",
        "    printf(\"Total Global Memory: %.2f GB\\n\", bytesToGB(deviceProp.totalGlobalMem));\n",
        "    printf(\"Shared Memory per Block: %.2f KB\\n\", static_cast<float>(deviceProp.sharedMemPerBlock) / 1024.0f);\n",
        "    printf(\"Registers per Block: %d\\n\", deviceProp.regsPerBlock);\n",
        "    printf(\"Warp Size: %d\\n\", deviceProp.warpSize);\n",
        "    printf(\"Max Threads per Block: %d\\n\", deviceProp.maxThreadsPerBlock);\n",
        "    printf(\"Max Threads per Multi-Processor: %d\\n\", deviceProp.maxThreadsPerMultiProcessor);\n",
        "    printf(\"Max Grid Dimensions: [%d, %d, %d]\\n\", deviceProp.maxGridSize[0], deviceProp.maxGridSize[1], deviceProp.maxGridSize[2]);\n",
        "    printf(\"Max Block Dimensions: [%d, %d, %d]\\n\", deviceProp.maxThreadsDim[0], deviceProp.maxThreadsDim[1], deviceProp.maxThreadsDim[2]);\n",
        "    printf(\"Compute Capability: %d.%d\\n\", deviceProp.major, deviceProp.minor);\n",
        "    printf(\"Multi-Processor Count: %d\\n\", deviceProp.multiProcessorCount);\n",
        "    printf(\"Max Texture 1D Size: %d\\n\", deviceProp.maxTexture1D);\n",
        "    printf(\"Max Texture 2D Size: [%d, %d]\\n\", deviceProp.maxTexture2D[0], deviceProp.maxTexture2D[1]);\n",
        "    printf(\"Concurrent Kernels: %s\\n\", deviceProp.concurrentKernels ? \"Supported\" : \"Not Supported\");\n",
        "    printf(\"ECC Memory: %s\\n\", deviceProp.ECCEnabled ? \"Enabled\" : \"Disabled\");\n",
        "\n",
        "    // Cache information\n",
        "    printf(\"\\nCache Configuration:\\n\");\n",
        "    printf(\"L2 Cache Size: %.2f KB\\n\", bytesToKB(deviceProp.l2CacheSize));\n",
        "    printf(\"Global Memory Bus Width: %d bits\\n\", deviceProp.memoryBusWidth);\n",
        "    printf(\"Memory Clock Rate: %.2f GHz\\n\", deviceProp.memoryClockRate / 1e6f);\n",
        "\n",
        "\n",
        "}\n",
        "\n",
        "int main() {\n",
        "    int deviceCount;\n",
        "    cudaGetDeviceCount(&deviceCount);\n",
        "\n",
        "    for (int i = 0; i < deviceCount; ++i) {\n",
        "        cudaDeviceProp deviceProp;\n",
        "        cudaGetDeviceProperties(&deviceProp, i);\n",
        "\n",
        "        printf(\"Device %d\\n\", i);\n",
        "        displayGPUProperties(deviceProp);\n",
        "        printf(\"\\n\");\n",
        "    }\n",
        "\n",
        "    return 0;\n",
        "}\n"
      ]
    },
    {
      "cell_type": "code",
      "execution_count": 5,
      "metadata": {
        "colab": {
          "base_uri": "https://localhost:8080/"
        },
        "id": "z3wEKuMUpseV",
        "outputId": "59cc4a94-55e0-49f9-aea6-f37c2c6f546b"
      },
      "outputs": [
        {
          "output_type": "stream",
          "name": "stdout",
          "text": [
            "Mounted at /content/drive\n"
          ]
        }
      ],
      "source": [
        "from google.colab import drive\n",
        "drive.mount(\"/content/drive\")"
      ]
    },
    {
      "cell_type": "markdown",
      "source": [
        "# Serial"
      ],
      "metadata": {
        "id": "hSU1wcxAA8Ya"
      }
    },
    {
      "cell_type": "code",
      "execution_count": 15,
      "metadata": {
        "colab": {
          "base_uri": "https://localhost:8080/"
        },
        "id": "FJ8SIcnApVrh",
        "outputId": "951d16d7-2eea-45c6-e8c8-1744afca815f"
      },
      "outputs": [
        {
          "output_type": "stream",
          "name": "stdout",
          "text": [
            "/content/drive/MyDrive/MultiCore/N_Body_Project/serial\n"
          ]
        }
      ],
      "source": [
        "%cd \"/content/drive/MyDrive/MultiCore/N_Body_Project/serial\""
      ]
    },
    {
      "cell_type": "markdown",
      "source": [
        "## Number of Bodies 600"
      ],
      "metadata": {
        "id": "1bW3R8ohNr8u"
      }
    },
    {
      "cell_type": "code",
      "source": [
        "!g++ -o nbody_serial n_body.cpp -lm\n",
        "!./nbody_serial"
      ],
      "metadata": {
        "colab": {
          "base_uri": "https://localhost:8080/"
        },
        "id": "ismWnU0KN7BV",
        "outputId": "72446466-f9ac-4347-8813-62e13a8ef1f5"
      },
      "execution_count": 17,
      "outputs": [
        {
          "output_type": "stream",
          "name": "stdout",
          "text": [
            "Time: 1.945232\n"
          ]
        }
      ]
    },
    {
      "cell_type": "markdown",
      "source": [
        "## Number of Bodies 2880"
      ],
      "metadata": {
        "id": "bgu6jlx6Nius"
      }
    },
    {
      "cell_type": "code",
      "source": [
        "!g++ -o nbody_serial n_body.cpp -lm\n",
        "!./nbody_serial"
      ],
      "metadata": {
        "colab": {
          "base_uri": "https://localhost:8080/"
        },
        "id": "f2cGjhmuNgxv",
        "outputId": "198aba80-8f5f-498c-ade6-1de3115a8f6f"
      },
      "execution_count": 16,
      "outputs": [
        {
          "output_type": "stream",
          "name": "stdout",
          "text": [
            "Time: 49.670639\n"
          ]
        }
      ]
    },
    {
      "cell_type": "markdown",
      "source": [
        "## Number of Bodies 11520"
      ],
      "metadata": {
        "id": "KNPWr2xj4yX8"
      }
    },
    {
      "cell_type": "code",
      "source": [
        "!g++ -o nbody_serial n_body.cpp -lm\n",
        "!./nbody_serial"
      ],
      "metadata": {
        "colab": {
          "base_uri": "https://localhost:8080/"
        },
        "id": "W2qK99k7DB5A",
        "outputId": "3ab9d5c7-ac73-4c73-da32-06585405d812"
      },
      "execution_count": 14,
      "outputs": [
        {
          "output_type": "stream",
          "name": "stdout",
          "text": [
            "Time: 779.031543\n"
          ]
        }
      ]
    },
    {
      "cell_type": "markdown",
      "source": [
        "## Number of bodies 23040"
      ],
      "metadata": {
        "id": "Fw1Q-0MY4bc0"
      }
    },
    {
      "cell_type": "code",
      "source": [
        "!g++ -o nbody_serial n_body.cpp -lm\n",
        "!./nbody_serial"
      ],
      "metadata": {
        "id": "Bw7uzy0K8t5x"
      },
      "execution_count": 4,
      "outputs": []
    },
    {
      "cell_type": "markdown",
      "source": [
        "# OpenMP"
      ],
      "metadata": {
        "id": "szIFhkelBCdx"
      }
    },
    {
      "cell_type": "code",
      "source": [
        "%cd \"/content/drive/MyDrive/MultiCore/N_Body_Project/openMp\""
      ],
      "metadata": {
        "colab": {
          "base_uri": "https://localhost:8080/"
        },
        "id": "tLWCLqUR9bqG",
        "outputId": "83baaeed-a82a-4d86-e829-e2519792291a"
      },
      "execution_count": null,
      "outputs": [
        {
          "output_type": "stream",
          "name": "stdout",
          "text": [
            "/content/drive/MyDrive/MultiCore/N_Body_Project/openMp\n"
          ]
        }
      ]
    },
    {
      "cell_type": "code",
      "source": [
        "!g++ -o nbody_omp n_body_omp.cpp -fopenmp"
      ],
      "metadata": {
        "id": "ZEy0dNLP9aLa"
      },
      "execution_count": null,
      "outputs": []
    },
    {
      "cell_type": "code",
      "source": [
        "!./nbody_omp"
      ],
      "metadata": {
        "colab": {
          "base_uri": "https://localhost:8080/"
        },
        "id": "_QWLOsLg9MMj",
        "outputId": "e50f27d2-9810-48f3-b964-945579c78fe0"
      },
      "execution_count": null,
      "outputs": [
        {
          "output_type": "stream",
          "name": "stdout",
          "text": [
            "Time: 40.573866\n"
          ]
        }
      ]
    },
    {
      "cell_type": "code",
      "source": [
        "import multiprocessing\n",
        "print(multiprocessing.cpu_count())"
      ],
      "metadata": {
        "colab": {
          "base_uri": "https://localhost:8080/"
        },
        "id": "fcssnOz3_RtO",
        "outputId": "18e38440-ad46-45b1-aa9f-83124b65a5f8"
      },
      "execution_count": null,
      "outputs": [
        {
          "output_type": "stream",
          "name": "stdout",
          "text": [
            "2\n"
          ]
        }
      ]
    },
    {
      "cell_type": "markdown",
      "metadata": {
        "id": "WoQRN7KOhBja"
      },
      "source": [
        "# Cuda"
      ]
    },
    {
      "cell_type": "code",
      "source": [
        "%cd \"/content/drive/MyDrive/MultiCore/N_Body_Project/cuda\""
      ],
      "metadata": {
        "colab": {
          "base_uri": "https://localhost:8080/"
        },
        "id": "9wUNHetPCfUh",
        "outputId": "b022f4b4-71ed-4599-d863-0bc51f0bfb0a"
      },
      "execution_count": 7,
      "outputs": [
        {
          "output_type": "stream",
          "name": "stdout",
          "text": [
            "/content/drive/MyDrive/MultiCore/N_Body_Project/cuda\n"
          ]
        }
      ]
    },
    {
      "cell_type": "markdown",
      "source": [
        "## Number of Bodies 600"
      ],
      "metadata": {
        "id": "9lhmF5ozEkt5"
      }
    },
    {
      "cell_type": "markdown",
      "source": [
        "### BlockSize = 16"
      ],
      "metadata": {
        "id": "v3Hg08rjEqST"
      }
    },
    {
      "cell_type": "code",
      "source": [
        "!nvcc -o nbody_cuda n_body_cuda.cu\n",
        "!./nbody_cuda"
      ],
      "metadata": {
        "colab": {
          "base_uri": "https://localhost:8080/"
        },
        "id": "ttQRfhQCEyzf",
        "outputId": "649fea82-5b74-4349-896a-5ef60861bee8"
      },
      "execution_count": 13,
      "outputs": [
        {
          "output_type": "stream",
          "name": "stdout",
          "text": [
            "Time: 0.673287\n"
          ]
        }
      ]
    },
    {
      "cell_type": "markdown",
      "source": [
        "### BlockSize = 32"
      ],
      "metadata": {
        "id": "95lj3ct5EuLD"
      }
    },
    {
      "cell_type": "code",
      "source": [
        "!nvcc -o nbody_cuda n_body_cuda.cu\n",
        "!./nbody_cuda"
      ],
      "metadata": {
        "colab": {
          "base_uri": "https://localhost:8080/"
        },
        "id": "kzpQKucuEtSb",
        "outputId": "8aec2fa9-aef3-45e9-97fa-6e55e3c3a96b"
      },
      "execution_count": 14,
      "outputs": [
        {
          "output_type": "stream",
          "name": "stdout",
          "text": [
            "Time: 0.511666\n"
          ]
        }
      ]
    },
    {
      "cell_type": "markdown",
      "source": [
        "### BlockSize = 64"
      ],
      "metadata": {
        "id": "CNHDq2aYEz6P"
      }
    },
    {
      "cell_type": "code",
      "source": [
        "!nvcc -o nbody_cuda n_body_cuda.cu\n",
        "!./nbody_cuda"
      ],
      "metadata": {
        "colab": {
          "base_uri": "https://localhost:8080/"
        },
        "id": "VZWXsZD5E8tn",
        "outputId": "03c461a6-72e9-4066-f6a2-1fd1d66e4731"
      },
      "execution_count": 15,
      "outputs": [
        {
          "output_type": "stream",
          "name": "stdout",
          "text": [
            "Time: 0.555038\n"
          ]
        }
      ]
    },
    {
      "cell_type": "markdown",
      "source": [
        "### BlockSize = 128"
      ],
      "metadata": {
        "id": "IlWiXbglE4NB"
      }
    },
    {
      "cell_type": "code",
      "source": [
        "!nvcc -o nbody_cuda n_body_cuda.cu\n",
        "!./nbody_cuda"
      ],
      "metadata": {
        "colab": {
          "base_uri": "https://localhost:8080/"
        },
        "id": "gIG6-dWLE3TN",
        "outputId": "57a8e3b8-e4fc-4119-a389-1edb5d4690a2"
      },
      "execution_count": 16,
      "outputs": [
        {
          "output_type": "stream",
          "name": "stdout",
          "text": [
            "Time: 0.596572\n"
          ]
        }
      ]
    },
    {
      "cell_type": "markdown",
      "source": [
        "## Number of Bodies 2880"
      ],
      "metadata": {
        "id": "zSM1N4q9D1Hp"
      }
    },
    {
      "cell_type": "markdown",
      "source": [
        "### BlockSize = 16"
      ],
      "metadata": {
        "id": "rF-H74cXD84c"
      }
    },
    {
      "cell_type": "code",
      "source": [
        "!nvcc -o nbody_cuda n_body_cuda.cu\n",
        "!./nbody_cuda"
      ],
      "metadata": {
        "colab": {
          "base_uri": "https://localhost:8080/"
        },
        "id": "s-Lv23TVEFwZ",
        "outputId": "2e796924-41f3-4d9d-8d4f-849180b3dede"
      },
      "execution_count": 8,
      "outputs": [
        {
          "output_type": "stream",
          "name": "stdout",
          "text": [
            "Time: 2.484351\n"
          ]
        }
      ]
    },
    {
      "cell_type": "markdown",
      "source": [
        "### BlockSize = 32"
      ],
      "metadata": {
        "id": "-Q5UMT56ELm3"
      }
    },
    {
      "cell_type": "code",
      "source": [
        "!nvcc -o nbody_cuda n_body_cuda.cu\n",
        "!./nbody_cuda"
      ],
      "metadata": {
        "colab": {
          "base_uri": "https://localhost:8080/"
        },
        "id": "x9aZie9hEOAL",
        "outputId": "19045e8e-b2e8-40cf-eb3d-1e08a0f2d49e"
      },
      "execution_count": 9,
      "outputs": [
        {
          "output_type": "stream",
          "name": "stdout",
          "text": [
            "Time: 1.627396\n"
          ]
        }
      ]
    },
    {
      "cell_type": "markdown",
      "source": [
        "### BlockSize = 64"
      ],
      "metadata": {
        "id": "axQjo1MOERDH"
      }
    },
    {
      "cell_type": "code",
      "source": [
        "!nvcc -o nbody_cuda n_body_cuda.cu\n",
        "!./nbody_cuda"
      ],
      "metadata": {
        "colab": {
          "base_uri": "https://localhost:8080/"
        },
        "id": "KbuMOVz5EUg0",
        "outputId": "ffed18a5-c136-4d1f-8f92-c9e976545299"
      },
      "execution_count": 10,
      "outputs": [
        {
          "output_type": "stream",
          "name": "stdout",
          "text": [
            "Time: 1.904166\n"
          ]
        }
      ]
    },
    {
      "cell_type": "markdown",
      "source": [
        "### BlockSize = 128"
      ],
      "metadata": {
        "id": "puq4o4O9EVeg"
      }
    },
    {
      "cell_type": "code",
      "source": [
        "!nvcc -o nbody_cuda n_body_cuda.cu\n",
        "!./nbody_cuda"
      ],
      "metadata": {
        "colab": {
          "base_uri": "https://localhost:8080/"
        },
        "id": "0PEhtuLEEcMt",
        "outputId": "9f179a04-f012-4cfd-eb19-d0473f1b9ec9"
      },
      "execution_count": 11,
      "outputs": [
        {
          "output_type": "stream",
          "name": "stdout",
          "text": [
            "Time: 1.864272\n"
          ]
        }
      ]
    },
    {
      "cell_type": "markdown",
      "source": [
        "## Number of Bodies 11520"
      ],
      "metadata": {
        "id": "CJoitCO-qg1g"
      }
    },
    {
      "cell_type": "markdown",
      "source": [
        "### BlockSize = 16"
      ],
      "metadata": {
        "id": "Sudj4o8iCITR"
      }
    },
    {
      "cell_type": "code",
      "execution_count": 23,
      "metadata": {
        "id": "WDO9fXpwlq-M"
      },
      "outputs": [],
      "source": [
        "!nvcc -o nbody_cuda n_body_cuda.cu"
      ]
    },
    {
      "cell_type": "code",
      "source": [
        "!./nbody_cuda"
      ],
      "metadata": {
        "colab": {
          "base_uri": "https://localhost:8080/"
        },
        "id": "xUWLA66QoweW",
        "outputId": "d70c15ef-b398-43cb-cb6e-0ae56ceaee5e"
      },
      "execution_count": 24,
      "outputs": [
        {
          "output_type": "stream",
          "name": "stdout",
          "text": [
            "Time: 30.405216\n"
          ]
        }
      ]
    },
    {
      "cell_type": "markdown",
      "source": [
        "### BlockSize = 32"
      ],
      "metadata": {
        "id": "-XqQHWIECOJ1"
      }
    },
    {
      "cell_type": "code",
      "source": [
        "!nvcc -o nbody_cuda n_body_cuda.cu\n",
        "!./nbody_cuda"
      ],
      "metadata": {
        "colab": {
          "base_uri": "https://localhost:8080/"
        },
        "id": "tq8YXvf5CivO",
        "outputId": "55a413fa-c47b-46f8-eb57-713ef93a6199"
      },
      "execution_count": 17,
      "outputs": [
        {
          "output_type": "stream",
          "name": "stdout",
          "text": [
            "Time: 15.161601\n"
          ]
        }
      ]
    },
    {
      "cell_type": "markdown",
      "source": [
        "### BlockSize = 64"
      ],
      "metadata": {
        "id": "qJZCjlnoCWkF"
      }
    },
    {
      "cell_type": "code",
      "source": [
        "!nvcc -o nbody_cuda n_body_cuda.cu\n",
        "!./nbody_cuda"
      ],
      "metadata": {
        "colab": {
          "base_uri": "https://localhost:8080/"
        },
        "id": "DGYmBdkVCl5b",
        "outputId": "021d5453-7f7e-474a-ae52-d377a93ff66f"
      },
      "execution_count": 14,
      "outputs": [
        {
          "output_type": "stream",
          "name": "stdout",
          "text": [
            "Time: 15.208548\n"
          ]
        }
      ]
    },
    {
      "cell_type": "markdown",
      "source": [
        "### BlockSize = 128"
      ],
      "metadata": {
        "id": "WGEzNl7YCdP5"
      }
    },
    {
      "cell_type": "code",
      "source": [
        "!nvcc -o nbody_cuda n_body_cuda.cu\n",
        "!./nbody_cuda"
      ],
      "metadata": {
        "colab": {
          "base_uri": "https://localhost:8080/"
        },
        "id": "saX_wayfCoCq",
        "outputId": "45445143-9c0f-41e5-ae22-e2c9546adf39"
      },
      "execution_count": 13,
      "outputs": [
        {
          "output_type": "stream",
          "name": "stdout",
          "text": [
            "Time: 18.241501\n"
          ]
        }
      ]
    },
    {
      "cell_type": "markdown",
      "source": [
        "## Number of Bodies 23040"
      ],
      "metadata": {
        "id": "2U95epqj22M6"
      }
    },
    {
      "cell_type": "markdown",
      "source": [
        "### BlockSize = 16\n",
        "\n",
        "\n"
      ],
      "metadata": {
        "id": "uVmwijIXDP6h"
      }
    },
    {
      "cell_type": "code",
      "source": [
        "!nvcc -o nbody_cuda n_body_cuda.cu"
      ],
      "metadata": {
        "id": "9kbphTIZxf2Y"
      },
      "execution_count": 26,
      "outputs": []
    },
    {
      "cell_type": "code",
      "source": [
        "!./nbody_cuda"
      ],
      "metadata": {
        "colab": {
          "base_uri": "https://localhost:8080/"
        },
        "id": "i1CaX5hrxjwT",
        "outputId": "28bd9141-dae9-4b51-d5a2-ac053109410c"
      },
      "execution_count": 27,
      "outputs": [
        {
          "output_type": "stream",
          "name": "stdout",
          "text": [
            "Time: 115.496223\n"
          ]
        }
      ]
    },
    {
      "cell_type": "markdown",
      "source": [
        "### BlockSize = 32"
      ],
      "metadata": {
        "id": "v8ji86S0DU4-"
      }
    },
    {
      "cell_type": "code",
      "source": [
        "!nvcc -o nbody_cuda n_body_cuda.cu\n",
        "!./nbody_cuda"
      ],
      "metadata": {
        "colab": {
          "base_uri": "https://localhost:8080/"
        },
        "id": "pjFY78veDdsE",
        "outputId": "fb96d2bb-1140-4fac-cee5-eb6804375b74"
      },
      "execution_count": 9,
      "outputs": [
        {
          "output_type": "stream",
          "name": "stdout",
          "text": [
            "Time: 61.749649\n"
          ]
        }
      ]
    },
    {
      "cell_type": "markdown",
      "source": [
        "### BlockSize = 64"
      ],
      "metadata": {
        "id": "4DYTcB33Dhlx"
      }
    },
    {
      "cell_type": "code",
      "source": [
        "!nvcc -o nbody_cuda n_body_cuda.cu\n",
        "!./nbody_cuda"
      ],
      "metadata": {
        "colab": {
          "base_uri": "https://localhost:8080/"
        },
        "id": "2VjaWSjQDo1J",
        "outputId": "42b304a6-f8db-4991-8b91-c49b2dc8f5ae"
      },
      "execution_count": 11,
      "outputs": [
        {
          "output_type": "stream",
          "name": "stdout",
          "text": [
            "Time: 60.048935\n"
          ]
        }
      ]
    },
    {
      "cell_type": "markdown",
      "source": [
        "### BlockSize = 128"
      ],
      "metadata": {
        "id": "YxIOiAqZDp8g"
      }
    },
    {
      "cell_type": "code",
      "source": [
        "!nvcc -o nbody_cuda n_body_cuda.cu\n",
        "!./nbody_cuda"
      ],
      "metadata": {
        "colab": {
          "base_uri": "https://localhost:8080/"
        },
        "id": "4QuciroXDt_B",
        "outputId": "2202c6d3-90ea-4ceb-8f57-d01e63989f8f"
      },
      "execution_count": 12,
      "outputs": [
        {
          "output_type": "stream",
          "name": "stdout",
          "text": [
            "Time: 60.095977\n"
          ]
        }
      ]
    }
  ],
  "metadata": {
    "colab": {
      "provenance": [],
      "gpuType": "T4"
    },
    "kernelspec": {
      "display_name": "Python 3",
      "name": "python3"
    },
    "language_info": {
      "name": "python"
    },
    "accelerator": "GPU"
  },
  "nbformat": 4,
  "nbformat_minor": 0
}